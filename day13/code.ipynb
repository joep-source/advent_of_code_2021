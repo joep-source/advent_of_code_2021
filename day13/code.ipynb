{
 "cells": [
  {
   "cell_type": "code",
   "execution_count": 1,
   "metadata": {},
   "outputs": [
    {
     "data": {
      "text/plain": [
       "966"
      ]
     },
     "execution_count": 1,
     "metadata": {},
     "output_type": "execute_result"
    }
   ],
   "source": [
    "f = open(\"input.txt\", \"r\")\n",
    "input_list = f.read().split('\\n')[:-1]\n",
    "len(input_list)"
   ]
  },
  {
   "cell_type": "code",
   "execution_count": 2,
   "metadata": {},
   "outputs": [
    {
     "name": "stdout",
     "output_type": "stream",
     "text": [
      "[[428, 532], [925, 404], [882, 362], [44, 836], [191, 714], [412, 36], [688, 523], [522, 842], [1054, 359], [523, 413], [388, 638], [60, 495], [758, 148], [381, 42], [1017, 80], [279, 696], [848, 508], [922, 638], [381, 852], [887, 822]]\n",
      "[{'axis': 0, 'pos': 655}, {'axis': 1, 'pos': 447}, {'axis': 0, 'pos': 327}, {'axis': 1, 'pos': 223}, {'axis': 0, 'pos': 163}, {'axis': 1, 'pos': 111}, {'axis': 0, 'pos': 81}, {'axis': 1, 'pos': 55}, {'axis': 0, 'pos': 40}, {'axis': 1, 'pos': 27}, {'axis': 1, 'pos': 13}, {'axis': 1, 'pos': 6}]\n"
     ]
    }
   ],
   "source": [
    "coords = [list(map(int,input.split(','))) for input in input_list if input and input[0].isdigit()]\n",
    "\n",
    "rules = []\n",
    "for input in input_list:\n",
    "    if input.startswith('fold along '):\n",
    "        axis = 0 if input[11]=='x' else 1\n",
    "        rules.append({'axis': axis, \"pos\": int(input[13:])})\n",
    "\n",
    "print(coords[:20])\n",
    "print(rules[:20])"
   ]
  },
  {
   "cell_type": "code",
   "execution_count": 3,
   "metadata": {},
   "outputs": [],
   "source": [
    "def print_coords(coords):\n",
    "    max_x = max(c[0] for c in coords)\n",
    "    max_y = max(c[1] for c in coords)\n",
    "    cnt = 0\n",
    "    for y in range(max_y+1):\n",
    "        line = \"\"\n",
    "        for x in range(max_x+1):\n",
    "            if [x,y] in coords:\n",
    "                line+='#'\n",
    "                cnt +=1\n",
    "            else:\n",
    "                line+='.'\n",
    "        print(line)\n",
    "    print()\n",
    "    return cnt\n"
   ]
  },
  {
   "cell_type": "code",
   "execution_count": 4,
   "metadata": {},
   "outputs": [
    {
     "name": "stdout",
     "output_type": "stream",
     "text": [
      "{'axis': 0, 'pos': 655}\n",
      "{'axis': 1, 'pos': 447}\n",
      "{'axis': 0, 'pos': 327}\n",
      "{'axis': 1, 'pos': 223}\n",
      "{'axis': 0, 'pos': 163}\n",
      "{'axis': 1, 'pos': 111}\n",
      "{'axis': 0, 'pos': 81}\n",
      "{'axis': 1, 'pos': 55}\n",
      "{'axis': 0, 'pos': 40}\n",
      "{'axis': 1, 'pos': 27}\n",
      "{'axis': 1, 'pos': 13}\n",
      "{'axis': 1, 'pos': 6}\n",
      "###..#..#.#..#.####.####..##..#..#.###.\n",
      "#..#.#.#..#..#.#.......#.#..#.#..#.#..#\n",
      "#..#.##...####.###....#..#....#..#.###.\n",
      "###..#.#..#..#.#.....#...#.##.#..#.#..#\n",
      "#.#..#.#..#..#.#....#....#..#.#..#.#..#\n",
      "#..#.#..#.#..#.#....####..###..##..###.\n",
      "\n",
      "COUNT: 103\n"
     ]
    }
   ],
   "source": [
    "for rule in rules:\n",
    "    print(rule)\n",
    "    a = rule['axis']\n",
    "    for i in range(len(coords)):\n",
    "        if coords[i][a] > rule['pos']:\n",
    "            coords[i][a] -= (coords[i][a] - rule['pos'])*2\n",
    "            \n",
    "cnt = print_coords(coords)\n",
    "print(\"COUNT:\", cnt)\n",
    "\n"
   ]
  }
 ],
 "metadata": {
  "interpreter": {
   "hash": "916dbcbb3f70747c44a77c7bcd40155683ae19c65e1c03b4aa3499c5328201f1"
  },
  "kernelspec": {
   "display_name": "Python 3.9.5 64-bit",
   "language": "python",
   "name": "python3"
  },
  "language_info": {
   "codemirror_mode": {
    "name": "ipython",
    "version": 3
   },
   "file_extension": ".py",
   "mimetype": "text/x-python",
   "name": "python",
   "nbconvert_exporter": "python",
   "pygments_lexer": "ipython3",
   "version": "3.8.9"
  },
  "orig_nbformat": 4
 },
 "nbformat": 4,
 "nbformat_minor": 2
}
