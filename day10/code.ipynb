{
 "cells": [
  {
   "cell_type": "code",
   "execution_count": 1,
   "metadata": {},
   "outputs": [
    {
     "data": {
      "text/plain": [
       "106"
      ]
     },
     "execution_count": 1,
     "metadata": {},
     "output_type": "execute_result"
    }
   ],
   "source": [
    "f = open(\"input.txt\", \"r\")\n",
    "input_list = f.read().split('\\n')[:-1]\n",
    "len(input_list)"
   ]
  },
  {
   "cell_type": "code",
   "execution_count": 2,
   "metadata": {},
   "outputs": [],
   "source": [
    "lookup_close = {'(':')', '[':']', '{':'}', '<':'>'}"
   ]
  },
  {
   "cell_type": "code",
   "execution_count": 3,
   "metadata": {},
   "outputs": [
    {
     "data": {
      "text/plain": [
       "({')': 17, ']': 11, '}': 12, '>': 13}, 341823)"
      ]
     },
     "execution_count": 3,
     "metadata": {},
     "output_type": "execute_result"
    }
   ],
   "source": [
    "lookup_p1_cnt = {')':0, ']':0, '}':0, '>':0}\n",
    "\n",
    "for line in input_list:\n",
    "    chars = []\n",
    "    for c in line:\n",
    "        if c in lookup_close.keys():\n",
    "            chars.append(lookup_close[c])\n",
    "        else:\n",
    "            char_expected = chars.pop()\n",
    "            if c != char_expected:\n",
    "                lookup_p1_cnt[c] += 1\n",
    "                break\n",
    "\n",
    "lookup_cnt_sum = sum([a*b for a,b in zip(lookup_p1_cnt.values(), [3,57,1197,25137])])\n",
    "lookup_p1_cnt, lookup_cnt_sum"
   ]
  },
  {
   "cell_type": "code",
   "execution_count": 4,
   "metadata": {},
   "outputs": [
    {
     "data": {
      "text/plain": [
       "2801302861"
      ]
     },
     "execution_count": 4,
     "metadata": {},
     "output_type": "execute_result"
    }
   ],
   "source": [
    "chars = [None]*len(input_list)\n",
    "for i,line in enumerate(input_list):\n",
    "    chars[i] = []\n",
    "    for c in line:\n",
    "        if c in lookup_close.keys():\n",
    "            chars[i].append(lookup_close[c])\n",
    "        else:\n",
    "            char_expected = chars[i].pop()\n",
    "            if c != char_expected:\n",
    "                chars[i] = []\n",
    "                break\n",
    "\n",
    "lookup_p1_values = {')':1, ']':2, '}':3, '>':4}\n",
    "\n",
    "total = []\n",
    "for cc in chars:\n",
    "    line = 0\n",
    "    for c in reversed(cc):\n",
    "        line = line*5 + lookup_p1_values[c]\n",
    "    if line:\n",
    "        total.append(line)\n",
    "total = sorted(total)\n",
    "total[int(len(total)/2)]"
   ]
  }
 ],
 "metadata": {
  "interpreter": {
   "hash": "916dbcbb3f70747c44a77c7bcd40155683ae19c65e1c03b4aa3499c5328201f1"
  },
  "kernelspec": {
   "display_name": "Python 3.9.5 64-bit",
   "language": "python",
   "name": "python3"
  },
  "language_info": {
   "codemirror_mode": {
    "name": "ipython",
    "version": 3
   },
   "file_extension": ".py",
   "mimetype": "text/x-python",
   "name": "python",
   "nbconvert_exporter": "python",
   "pygments_lexer": "ipython3",
   "version": "3.8.9"
  },
  "orig_nbformat": 4
 },
 "nbformat": 4,
 "nbformat_minor": 2
}
