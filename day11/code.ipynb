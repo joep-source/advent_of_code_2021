{
 "cells": [
  {
   "cell_type": "code",
   "execution_count": 1,
   "metadata": {},
   "outputs": [
    {
     "data": {
      "text/plain": [
       "10"
      ]
     },
     "execution_count": 1,
     "metadata": {},
     "output_type": "execute_result"
    }
   ],
   "source": [
    "f = open(\"input.txt\", \"r\")\n",
    "input_list = f.read().split('\\n')[:-1]\n",
    "len(input_list)"
   ]
  },
  {
   "cell_type": "code",
   "execution_count": 2,
   "metadata": {},
   "outputs": [
    {
     "name": "stdout",
     "output_type": "stream",
     "text": [
      "['4', '4', '3', '8', '6', '2', '4', '2', '6', '2']\n",
      "['6', '2', '6', '3', '2', '5', '1', '8', '6', '4']\n",
      "['2', '6', '1', '8', '8', '1', '2', '4', '3', '4']\n",
      "['2', '1', '3', '4', '2', '6', '4', '5', '6', '5']\n",
      "['1', '8', '1', '5', '1', '3', '1', '2', '4', '7']\n",
      "['2', '6', '1', '2', '4', '5', '7', '3', '2', '5']\n",
      "['8', '5', '8', '5', '7', '6', '7', '5', '8', '4']\n",
      "['7', '2', '1', '7', '1', '3', '4', '5', '5', '6']\n",
      "['2', '8', '2', '5', '4', '5', '6', '5', '6', '3']\n",
      "['8', '2', '4', '8', '4', '7', '3', '5', '8', '4']\n",
      "\n",
      "round=100, flash_total=1640\n",
      "['8', '2', '2', '2', '3', '5', '_', '_', '7', '5']\n",
      "['2', '2', '2', '3', '5', '4', '_', '_', '_', '7']\n",
      "['2', '2', '3', '5', '1', '4', '_', '_', '_', '_']\n",
      "['2', '3', '5', '1', '1', '4', '_', '_', '_', '_']\n",
      "['3', '5', '1', '1', '1', '4', '_', '_', '_', '_']\n",
      "['4', '1', '1', '1', '2', '5', '_', '_', '_', '_']\n",
      "['5', '1', '1', '2', '4', '_', '_', '_', '_', '_']\n",
      "['5', '1', '2', '4', '_', '_', '_', '_', '_', '_']\n",
      "['4', '2', '4', '_', '_', '_', '_', '_', '_', '_']\n",
      "['3', '5', '_', '_', '_', '_', '_', '_', '_', '9']\n",
      "\n",
      "round=312\n",
      "['_', '_', '_', '_', '_', '_', '_', '_', '_', '_']\n",
      "['_', '_', '_', '_', '_', '_', '_', '_', '_', '_']\n",
      "['_', '_', '_', '_', '_', '_', '_', '_', '_', '_']\n",
      "['_', '_', '_', '_', '_', '_', '_', '_', '_', '_']\n",
      "['_', '_', '_', '_', '_', '_', '_', '_', '_', '_']\n",
      "['_', '_', '_', '_', '_', '_', '_', '_', '_', '_']\n",
      "['_', '_', '_', '_', '_', '_', '_', '_', '_', '_']\n",
      "['_', '_', '_', '_', '_', '_', '_', '_', '_', '_']\n",
      "['_', '_', '_', '_', '_', '_', '_', '_', '_', '_']\n",
      "['_', '_', '_', '_', '_', '_', '_', '_', '_', '_']\n",
      "\n"
     ]
    }
   ],
   "source": [
    "from dataclasses import dataclass\n",
    "\n",
    "@dataclass\n",
    "class Octo:\n",
    "    x: int\n",
    "    y: int\n",
    "    energy: int\n",
    "    new_energy: int = 1\n",
    "    flashed: bool = False\n",
    "\n",
    "    def reset(self):\n",
    "        if self.flashed:\n",
    "            self.flashed = False\n",
    "            self.energy = 0\n",
    "        else:\n",
    "            self.energy += self.new_energy\n",
    "        self.new_energy = 1\n",
    "\n",
    "    def flash(self):\n",
    "        if self.energy + self.new_energy >= 10 and not self.flashed:\n",
    "            self.flashed = True\n",
    "            return True\n",
    "        return False\n",
    "\n",
    "\n",
    "def get_octo(cave, x, y):\n",
    "    return next((octo for octo in cave if octo.x == x and octo.y == y), None)\n",
    "\n",
    "\n",
    "def incr_surrounding_octo(cave, octo):\n",
    "    for y in range(octo.y-1, octo.y+2):\n",
    "        for x in range(octo.x-1, octo.x+2):\n",
    "            if nearby_octo := get_octo(cave, x, y):\n",
    "                nearby_octo.new_energy += 1\n",
    "        \n",
    "\n",
    "def print_cave(cave):\n",
    "    def _p(value):\n",
    "        return '_' if value==0 else str(value)\n",
    "    for y in range(len(input_list)):\n",
    "        print([_p(get_octo(cave, x, y).energy) for x in range(len(input_list[0]))])\n",
    "    print()\n",
    "\n",
    "\n",
    "cave = sum([[Octo(x,y,int(e)) for x,e in enumerate(row)] for y,row in enumerate(input_list)], [])\n",
    "print_cave(cave)\n",
    "\n",
    "flash_total = 0\n",
    "for round in range(1,500):\n",
    "    flash_round = 0\n",
    "    complete = False\n",
    "    while not complete:\n",
    "        for octo in cave:\n",
    "            if octo.flash():\n",
    "                flash_round += 1\n",
    "                incr_surrounding_octo(cave, octo)\n",
    "                break\n",
    "            if octo == cave[-1]:\n",
    "                complete = True\n",
    "    for octo in cave:\n",
    "        octo.reset()\n",
    "    flash_total += flash_round\n",
    "    if round == 100: # part 1\n",
    "        print(f\"{round=}, {flash_total=}\")\n",
    "        print_cave(cave)\n",
    "    if flash_round == 100:  # part 2\n",
    "        print(f\"{round=}\")\n",
    "        print_cave(cave)\n",
    "        break"
   ]
  }
 ],
 "metadata": {
  "interpreter": {
   "hash": "916dbcbb3f70747c44a77c7bcd40155683ae19c65e1c03b4aa3499c5328201f1"
  },
  "kernelspec": {
   "display_name": "Python 3.9.5 64-bit",
   "language": "python",
   "name": "python3"
  },
  "language_info": {
   "codemirror_mode": {
    "name": "ipython",
    "version": 3
   },
   "file_extension": ".py",
   "mimetype": "text/x-python",
   "name": "python",
   "nbconvert_exporter": "python",
   "pygments_lexer": "ipython3",
   "version": "3.8.9"
  },
  "orig_nbformat": 4
 },
 "nbformat": 4,
 "nbformat_minor": 2
}
