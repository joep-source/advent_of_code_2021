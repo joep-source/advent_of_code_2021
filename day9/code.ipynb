{
 "cells": [
  {
   "cell_type": "code",
   "execution_count": 1,
   "metadata": {},
   "outputs": [
    {
     "data": {
      "text/plain": [
       "100"
      ]
     },
     "execution_count": 1,
     "metadata": {},
     "output_type": "execute_result"
    }
   ],
   "source": [
    "f = open(\"input.txt\", \"r\")\n",
    "input_list = f.read().split('\\n')[:-1]\n",
    "len(input_list)"
   ]
  },
  {
   "cell_type": "code",
   "execution_count": 2,
   "metadata": {},
   "outputs": [
    {
     "data": {
      "text/plain": [
       "489"
      ]
     },
     "execution_count": 2,
     "metadata": {},
     "output_type": "execute_result"
    }
   ],
   "source": [
    "def is_low_point(map, x, y):\n",
    "    n = map[x][y]\n",
    "    for delta_x in [-1, 1]:\n",
    "        try:\n",
    "            if n >= map[x+delta_x][y]:\n",
    "                return False\n",
    "        except IndexError:\n",
    "            pass\n",
    "    for delta_y in [-1, 1]:\n",
    "        try:\n",
    "            if n >= map[x][y+delta_y]:\n",
    "                return False\n",
    "        except IndexError:\n",
    "            pass\n",
    "    return n+1       \n",
    "\n",
    "map = [[int(n) for n in row] for row in input_list]\n",
    "total = 0\n",
    "for x, row in enumerate(map):\n",
    "    for y, col in enumerate(row):\n",
    "        if n:=is_low_point(map, x, y):            \n",
    "            total += n\n",
    "\n",
    "total"
   ]
  },
  {
   "cell_type": "code",
   "execution_count": 3,
   "metadata": {},
   "outputs": [
    {
     "name": "stdout",
     "output_type": "stream",
     "text": [
      "[24, 18, 3, 48, 29, 2, 27, 17, 58, 7, 75, 29, 19, 46, 15, 60, 78, 25, 110, 9, 42, 58, 6, 5, 3, 21, 4, 35, 41, 6, 21, 55, 23, 9, 44, 17, 34, 38, 33, 21, 52, 24, 69, 78, 28, 25, 24, 85, 7, 3, 9, 20, 5, 6, 66, 25, 49, 54, 38, 22, 57, 4, 3, 10, 96, 37, 36, 34, 35, 26, 38, 66, 30, 14, 6, 22, 52, 47, 64, 83, 29, 2, 71, 9, 14, 23, 5, 97, 26, 2, 5, 64, 18, 62, 42, 83, 3, 4, 29, 33, 33, 3, 13, 59, 41, 4, 73, 18, 52, 16, 45, 99, 54, 59, 91, 6, 53, 74, 16, 50, 6, 55, 39, 53, 9, 21, 19, 23, 28, 13, 73, 16, 92, 77, 50, 79, 5, 41, 3, 61, 58, 20, 28, 56, 35, 70, 12, 4, 10, 54, 94, 38, 15, 11, 30, 3, 39, 9, 2, 20, 4, 61, 25, 16, 6, 87, 45, 24, 8, 66, 6, 7, 65, 31, 58, 40, 44, 17, 2, 5, 51, 5, 23, 19, 66, 55, 17, 74, 55, 43, 11, 37, 20, 48, 72, 29, 4, 19, 10, 71, 7, 16, 21, 36, 47, 2, 18, 50, 17, 8, 32, 45, 37, 6, 16, 23, 15, 12, 6, 4]\n"
     ]
    },
    {
     "data": {
      "text/plain": [
       "1056330"
      ]
     },
     "execution_count": 3,
     "metadata": {},
     "output_type": "execute_result"
    }
   ],
   "source": [
    "from pylab import *\n",
    "from scipy.ndimage import measurements\n",
    "\n",
    "mymap = [[0 if int(n)==9 else 1 for n in row] for row in input_list]\n",
    " \n",
    "clustermap, num = measurements.label(mymap)\n",
    "# print(clustermap)\n",
    "\n",
    "cluster_sizes = [0]*num\n",
    "for i in range(0, num+1):\n",
    "    cluster_sizes[i-1] = sum([sum([1 if int(n)==i else 0 for n in row]) for row in clustermap])\n",
    "print(cluster_sizes)\n",
    "\n",
    "cluster_sizes = sorted(cluster_sizes, reverse=True)\n",
    "cluster_sizes[0]*cluster_sizes[1]*cluster_sizes[2]"
   ]
  }
 ],
 "metadata": {
  "interpreter": {
   "hash": "916dbcbb3f70747c44a77c7bcd40155683ae19c65e1c03b4aa3499c5328201f1"
  },
  "kernelspec": {
   "display_name": "Python 3.9.5 64-bit",
   "language": "python",
   "name": "python3"
  },
  "language_info": {
   "codemirror_mode": {
    "name": "ipython",
    "version": 3
   },
   "file_extension": ".py",
   "mimetype": "text/x-python",
   "name": "python",
   "nbconvert_exporter": "python",
   "pygments_lexer": "ipython3",
   "version": "3.8.9"
  },
  "orig_nbformat": 4
 },
 "nbformat": 4,
 "nbformat_minor": 2
}
