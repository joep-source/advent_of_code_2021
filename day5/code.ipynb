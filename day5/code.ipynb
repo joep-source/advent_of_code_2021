{
 "cells": [
  {
   "cell_type": "code",
   "execution_count": 1,
   "metadata": {},
   "outputs": [
    {
     "data": {
      "text/plain": [
       "501"
      ]
     },
     "execution_count": 1,
     "metadata": {},
     "output_type": "execute_result"
    }
   ],
   "source": [
    "f = open(\"input.txt\", \"r\")\n",
    "input_list = f.read().split('\\n')\n",
    "len(input_list)\n"
   ]
  },
  {
   "cell_type": "code",
   "execution_count": 2,
   "metadata": {},
   "outputs": [
    {
     "name": "stdout",
     "output_type": "stream",
     "text": [
      "500\n"
     ]
    }
   ],
   "source": [
    "input_coords = []\n",
    "for input in input_list[:-1]:\n",
    "    input_coord_str = input.replace(\" -> \", \",\").split(',')\n",
    "    input_coords.append(list(map(int,input_coord_str)))\n",
    "print(len(input_coords))"
   ]
  },
  {
   "cell_type": "code",
   "execution_count": 3,
   "metadata": {},
   "outputs": [
    {
     "name": "stdout",
     "output_type": "stream",
     "text": [
      "crossings: 19081\n"
     ]
    }
   ],
   "source": [
    "def print_diagram(diagram):\n",
    "    for row in diagram:\n",
    "        print(row)\n",
    "    print()\n",
    "\n",
    "\n",
    "def get_coords_range(coords):\n",
    "    x_start = coords[0]\n",
    "    y_start = coords[1]\n",
    "    x_end = coords[2]\n",
    "    y_end = coords[3]\n",
    "    if x_end >= x_start:\n",
    "        range_x = list(range(x_start, x_end+1))\n",
    "    else:\n",
    "        range_x = list(range(x_start, x_end-1, -1))\n",
    "    if y_end >= y_start:\n",
    "        range_y = list(range(y_start, y_end+1))\n",
    "    else:\n",
    "        range_y = list(range(y_start, y_end-1, -1))\n",
    "    return range_x, range_y\n",
    "\n",
    "\n",
    "def add_line(diagram, range_x, range_y, part2=False):    \n",
    "    if len(range_x)==1:\n",
    "        for y in range_y:\n",
    "            diagram[y][range_x[0]] += 1\n",
    "    elif len(range_y)==1:\n",
    "        for x in range_x:\n",
    "            diagram[range_y[0]][x] += 1\n",
    "    elif part2:\n",
    "        for x,y in zip(range_x, range_y):\n",
    "            diagram[y][x] += 1\n",
    "    return diagram\n",
    "\n",
    "\n",
    "def count_crossings(diagram):\n",
    "    return sum([sum([True for x in row if x>1]) for row in diagram])\n",
    "\n",
    "\n",
    "diagram = [[0]*1000 for _ in range(1000)] \n",
    "for coords in input_coords:\n",
    "    range_x, range_y = get_coords_range(coords)\n",
    "    diagram = add_line(diagram, range_x, range_y, part2=True)\n",
    "print('crossings:', count_crossings(diagram))"
   ]
  }
 ],
 "metadata": {
  "interpreter": {
   "hash": "916dbcbb3f70747c44a77c7bcd40155683ae19c65e1c03b4aa3499c5328201f1"
  },
  "kernelspec": {
   "display_name": "Python 3.9.5 64-bit",
   "language": "python",
   "name": "python3"
  },
  "language_info": {
   "codemirror_mode": {
    "name": "ipython",
    "version": 3
   },
   "file_extension": ".py",
   "mimetype": "text/x-python",
   "name": "python",
   "nbconvert_exporter": "python",
   "pygments_lexer": "ipython3",
   "version": "3.9.7"
  },
  "orig_nbformat": 4
 },
 "nbformat": 4,
 "nbformat_minor": 2
}
