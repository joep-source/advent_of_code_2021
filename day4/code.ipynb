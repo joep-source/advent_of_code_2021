{
 "cells": [
  {
   "cell_type": "code",
   "execution_count": 164,
   "metadata": {},
   "outputs": [
    {
     "data": {
      "text/plain": [
       "101"
      ]
     },
     "execution_count": 164,
     "metadata": {},
     "output_type": "execute_result"
    }
   ],
   "source": [
    "f = open(\"input.txt\", \"r\")\n",
    "input_list = f.read().split('\\n\\n')\n",
    "len(input_list)"
   ]
  },
  {
   "cell_type": "code",
   "execution_count": 165,
   "metadata": {},
   "outputs": [
    {
     "data": {
      "text/plain": [
       "(100, 100)"
      ]
     },
     "execution_count": 165,
     "metadata": {},
     "output_type": "execute_result"
    }
   ],
   "source": [
    "def get_boards_numbers(input_list):\n",
    "    numbers = list(map(int, input_list[0].split(',')))\n",
    "    boards = [[list(map(int, row.split())) for row in board.split('\\n')] for board in input_list[1:]]\n",
    "    boards[-1] = boards[-1][:-1]\n",
    "    return boards, numbers\n",
    "\n",
    "boards, numbers = get_boards_numbers(input_list)\n",
    "len(numbers), len(boards)   "
   ]
  },
  {
   "cell_type": "code",
   "execution_count": 166,
   "metadata": {},
   "outputs": [],
   "source": [
    "def remove_number(board, number):    \n",
    "    return [['_' if n==number else n for n in row] for row in board]\n",
    "\n",
    "\n",
    "def check_board(board):\n",
    "    for i in range(len(board)):\n",
    "        if set(board[i]) == set(['_']):\n",
    "            return True\n",
    "        if all(row == '_' for row in board[i]):\n",
    "            print('=====', set(board[i]), board[i])\n",
    "            return True\n",
    "    if any(all(line[idx] == '_' for line in board) for idx in range(len(board[0]))):\n",
    "        return True\n",
    "\n",
    "\n",
    "def sum_board(board):\n",
    "    return sum([sum([n for n in row if n!='_']) for row in board])\n"
   ]
  },
  {
   "cell_type": "code",
   "execution_count": 167,
   "metadata": {},
   "outputs": [
    {
     "name": "stdout",
     "output_type": "stream",
     "text": [
      "part 1: 38594 on numer 46\n",
      "part 2: 21184 on numer 64\n"
     ]
    }
   ],
   "source": [
    "boards, numbers = get_boards_numbers(input_list)\n",
    "first_found = False\n",
    "\n",
    "for n in numbers:\n",
    "    \n",
    "    boards = [remove_number(board, n) for board in boards]\n",
    "\n",
    "    if len(boards) == 1:\n",
    "        print(f'part 2: {n*sum_board(boards[0])} on numer {n}')\n",
    "    \n",
    "    for i in reversed(range(len(boards))):\n",
    "\n",
    "        if check_board(boards[i]):\n",
    "\n",
    "            if not first_found:\n",
    "                print(f'part 1: {n*sum_board(boards[i])} on numer {n}')\n",
    "                first_found = True\n",
    "                \n",
    "            boards.pop(i)"
   ]
  }
 ],
 "metadata": {
  "interpreter": {
   "hash": "916dbcbb3f70747c44a77c7bcd40155683ae19c65e1c03b4aa3499c5328201f1"
  },
  "kernelspec": {
   "display_name": "Python 3.9.5 64-bit",
   "language": "python",
   "name": "python3"
  },
  "language_info": {
   "codemirror_mode": {
    "name": "ipython",
    "version": 3
   },
   "file_extension": ".py",
   "mimetype": "text/x-python",
   "name": "python",
   "nbconvert_exporter": "python",
   "pygments_lexer": "ipython3",
   "version": "3.9.7"
  },
  "orig_nbformat": 4
 },
 "nbformat": 4,
 "nbformat_minor": 2
}
