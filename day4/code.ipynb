{
 "cells": [
  {
   "cell_type": "code",
   "execution_count": 1,
   "metadata": {},
   "outputs": [
    {
     "data": {
      "text/plain": [
       "601"
      ]
     },
     "execution_count": 1,
     "metadata": {},
     "output_type": "execute_result"
    }
   ],
   "source": [
    "f = open(\"input.txt\", \"r\")\n",
    "input_list = f.read().split('\\n')[:-1]\n",
    "len(input_list)"
   ]
  },
  {
   "cell_type": "code",
   "execution_count": 2,
   "metadata": {},
   "outputs": [
    {
     "name": "stdout",
     "output_type": "stream",
     "text": [
      "[17, 2, 33, 86, 38, 41, 4, 34, 91, 61, 11, 81, 3, 59, 29, 71, 26, 44, 54, 89, 46, 9, 85, 62, 23, 76, 45, 24, 78, 14, 58, 48, 57, 40, 21, 49, 7, 99, 8, 56, 50, 19, 53, 55, 10, 94, 75, 68, 6, 83, 84, 88, 52, 80, 73, 74, 79, 36, 70, 28, 37, 0, 42, 98, 96, 92, 27, 90, 47, 20, 5, 77, 69, 93, 31, 30, 95, 25, 63, 65, 51, 72, 60, 16, 12, 64, 18, 13, 1, 35, 15, 66, 67, 43, 22, 87, 97, 32, 39, 82]\n"
     ]
    }
   ],
   "source": [
    "numbers = input_list[0]\n",
    "numbers = list(map(int, numbers.split(',')))\n",
    "print(numbers)"
   ]
  },
  {
   "cell_type": "code",
   "execution_count": 3,
   "metadata": {},
   "outputs": [],
   "source": [
    "\n",
    "def create_boards(board_list):\n",
    "    boards = [[]]\n",
    "    boards_index = 0\n",
    "    boards_index_prev = 0\n",
    "\n",
    "\n",
    "    for row in board_list:\n",
    "        if not len(row):\n",
    "            boards_index += 1\n",
    "        else:\n",
    "            row_numbers = list(map(int, row.split()))\n",
    "            if boards_index != boards_index_prev:\n",
    "                boards.append([row_numbers])\n",
    "            else:\n",
    "                boards[boards_index].append(row_numbers)\n",
    "            boards_index_prev = boards_index\n",
    "    return boards\n",
    "\n",
    "def print_boards(boards):\n",
    "    for b in boards:\n",
    "        print(b)\n",
    "    print()\n",
    "\n",
    "# print_boards(create_boards(input_list[2:]))"
   ]
  },
  {
   "cell_type": "code",
   "execution_count": 4,
   "metadata": {},
   "outputs": [],
   "source": [
    "def remove_number(number, boards):\n",
    "    for b in boards:\n",
    "        for i in range(len(b)):\n",
    "            b[i] = ['_' if n==number else n for n in b[i]]\n",
    "    return boards\n",
    "\n",
    "\n",
    "def check_board(board):\n",
    "    for i in range(len(board)):\n",
    "        if set(board[i]) == set(['_']):\n",
    "            return True\n",
    "        if all(row == '_' for row in board[i]):\n",
    "            print('=====', board[i])\n",
    "            return True\n",
    "    if any(all(line[idx] == '_' for line in board) for idx in range(len(board[0]))):\n",
    "        return True\n",
    "\n",
    "\n",
    "def calc_sum_board(board):\n",
    "    board_sum = 0\n",
    "    # for i in range(len(board)):\n",
    "    #     board_sum += sum(filter('_', board[i]))\n",
    "    return sum(sum(i for i in line if i != '_') for line in board)\n",
    "    \n",
    "\n"
   ]
  },
  {
   "cell_type": "code",
   "execution_count": 5,
   "metadata": {},
   "outputs": [
    {
     "name": "stdout",
     "output_type": "stream",
     "text": [
      "[[73, '_', '_', 87, 95], [62, 99, 58, 9, 20], [45, 10, '_', 28, 39], ['_', '_', '_', '_', '_'], [49, 35, 24, 74, 32]]\n",
      "38594\n"
     ]
    },
    {
     "ename": "EOFError",
     "evalue": "",
     "output_type": "error",
     "traceback": [
      "\u001b[0;31m---------------------------------------------------------------------------\u001b[0m",
      "\u001b[0;31mEOFError\u001b[0m                                  Traceback (most recent call last)",
      "\u001b[0;32m/tmp/ipykernel_227766/3851847262.py\u001b[0m in \u001b[0;36m<module>\u001b[0;34m\u001b[0m\n\u001b[1;32m      8\u001b[0m             \u001b[0mprint\u001b[0m\u001b[0;34m(\u001b[0m\u001b[0mb\u001b[0m\u001b[0;34m)\u001b[0m\u001b[0;34m\u001b[0m\u001b[0;34m\u001b[0m\u001b[0m\n\u001b[1;32m      9\u001b[0m             \u001b[0mprint\u001b[0m\u001b[0;34m(\u001b[0m\u001b[0mn\u001b[0m\u001b[0;34m*\u001b[0m\u001b[0mcalc_sum_board\u001b[0m\u001b[0;34m(\u001b[0m\u001b[0mb\u001b[0m\u001b[0;34m)\u001b[0m\u001b[0;34m)\u001b[0m\u001b[0;34m\u001b[0m\u001b[0;34m\u001b[0m\u001b[0m\n\u001b[0;32m---> 10\u001b[0;31m             \u001b[0;32mraise\u001b[0m \u001b[0mEOFError\u001b[0m\u001b[0;34m(\u001b[0m\u001b[0;34m)\u001b[0m\u001b[0;34m\u001b[0m\u001b[0;34m\u001b[0m\u001b[0m\n\u001b[0m",
      "\u001b[0;31mEOFError\u001b[0m: "
     ]
    }
   ],
   "source": [
    "boards = create_boards(input_list[2:])\n",
    "for n in numbers:\n",
    "    boards = remove_number(n, boards)\n",
    "    # print_boards(boards)\n",
    "    \n",
    "    for b in boards:\n",
    "        if check_board(b):\n",
    "            print(b)\n",
    "            print(n*calc_sum_board(b))\n",
    "            raise EOFError()"
   ]
  },
  {
   "cell_type": "code",
   "execution_count": 6,
   "metadata": {},
   "outputs": [
    {
     "name": "stdout",
     "output_type": "stream",
     "text": [
      "['_', '_', '_', '_', '_']\n",
      "['_', 82, '_', '_', '_']\n",
      "[67, '_', '_', '_', '_']\n",
      "['_', '_', '_', 13, 43]\n",
      "['_', 39, '_', '_', 87]\n",
      "\n",
      "331 64 21184\n"
     ]
    }
   ],
   "source": [
    "boards = create_boards(input_list[2:])\n",
    "for n_i, n in enumerate(numbers):\n",
    "    \n",
    "    boards = remove_number(n, boards)\n",
    "\n",
    "    if len(boards) == 1:\n",
    "        print_boards(boards[0])\n",
    "        sum_board = calc_sum_board(boards[0])\n",
    "        print(sum_board,n, n*sum_board)\n",
    "        break\n",
    "    \n",
    "    for _ in range(9):\n",
    "        for i in range(len(boards)):\n",
    "            if check_board(boards[i]):\n",
    "                boards.pop(i)\n",
    "                break"
   ]
  }
 ],
 "metadata": {
  "interpreter": {
   "hash": "916dbcbb3f70747c44a77c7bcd40155683ae19c65e1c03b4aa3499c5328201f1"
  },
  "kernelspec": {
   "display_name": "Python 3.9.5 64-bit",
   "language": "python",
   "name": "python3"
  },
  "language_info": {
   "codemirror_mode": {
    "name": "ipython",
    "version": 3
   },
   "file_extension": ".py",
   "mimetype": "text/x-python",
   "name": "python",
   "nbconvert_exporter": "python",
   "pygments_lexer": "ipython3",
   "version": "3.9.7"
  },
  "orig_nbformat": 4
 },
 "nbformat": 4,
 "nbformat_minor": 2
}
