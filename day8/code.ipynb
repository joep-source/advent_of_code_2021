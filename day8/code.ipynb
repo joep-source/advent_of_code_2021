{
 "cells": [
  {
   "cell_type": "code",
   "execution_count": 1,
   "metadata": {},
   "outputs": [
    {
     "data": {
      "text/plain": [
       "200"
      ]
     },
     "execution_count": 1,
     "metadata": {},
     "output_type": "execute_result"
    }
   ],
   "source": [
    "f = open(\"input.txt\", \"r\")\n",
    "input_list = f.read().split('\\n')[:-1]\n",
    "len(input_list)"
   ]
  },
  {
   "cell_type": "code",
   "execution_count": 2,
   "metadata": {},
   "outputs": [
    {
     "data": {
      "text/plain": [
       "(200, 200)"
      ]
     },
     "execution_count": 2,
     "metadata": {},
     "output_type": "execute_result"
    }
   ],
   "source": [
    "signal_wire = []\n",
    "signal_output = []\n",
    "for input in input_list:\n",
    "    wire, output = input.split(' | ')\n",
    "    signal_wire.append(wire.split())\n",
    "    signal_output.append(output.split())\n",
    "\n",
    "len(signal_wire), len(signal_output)"
   ]
  },
  {
   "cell_type": "code",
   "execution_count": 3,
   "metadata": {},
   "outputs": [],
   "source": [
    "DIGITS_1 = 2\n",
    "DIGITS_4 = 4\n",
    "DIGITS_7 = 3\n",
    "DIGITS_8 = 7"
   ]
  },
  {
   "cell_type": "code",
   "execution_count": 4,
   "metadata": {},
   "outputs": [
    {
     "data": {
      "text/plain": [
       "245"
      ]
     },
     "execution_count": 4,
     "metadata": {},
     "output_type": "execute_result"
    }
   ],
   "source": [
    "# Part 1\n",
    "DIGITS_UNIQUE = [DIGITS_1, DIGITS_4, DIGITS_7, DIGITS_8]\n",
    "\n",
    "cnt = 0\n",
    "for output in signal_output:\n",
    "    for o in output:        \n",
    "        if len(o) in DIGITS_UNIQUE:\n",
    "            cnt+=1\n",
    "cnt"
   ]
  },
  {
   "cell_type": "code",
   "execution_count": 5,
   "metadata": {},
   "outputs": [],
   "source": [
    "def signal_ordered(wire):\n",
    "    # Digits we can create\n",
    "    d_0 = None\n",
    "    d_1 = set(next(w for w in wire if len(w)==DIGITS_1))\n",
    "    d_2 = None\n",
    "    d_3 = None\n",
    "    d_4 = set(next(w for w in wire if len(w)==DIGITS_4))\n",
    "    d_5 = None\n",
    "    d_6 = None\n",
    "    d_7 = set(next(w for w in wire if len(w)==DIGITS_7))\n",
    "    d_8 = set(next(w for w in wire if len(w)==DIGITS_8))\n",
    "    d_9 = None\n",
    "\n",
    "    # Segments we know\n",
    "    s_a = d_7 - d_1 \n",
    "    s_bd = d_4 - d_1\n",
    "    s_cf = d_1\n",
    "    s_eg = (d_8 - d_7) - d_4\n",
    "    \n",
    "    # Calc other digits and segments\n",
    "    d_0 = set(next(w for w in wire if (len(w)==6 and (d_7|s_eg).issubset(set(w)))))\n",
    "    s_b = (d_0-d_7)-s_eg\n",
    "    s_d = s_bd-s_b\n",
    "\n",
    "    d_9 = set(next(w for w in wire if (len(w)==6 and (d_7|d_4).issubset(set(w)))))\n",
    "    s_g = (d_9-d_7)-d_4\n",
    "    s_e = s_eg - s_g\n",
    "\n",
    "    d_6 = set(next(w for w in wire if (len(w)==6 and (s_a|s_bd|s_eg).issubset(set(w)))))\n",
    "    s_c = d_9 - d_6\n",
    "    s_f = s_cf - s_c\n",
    "\n",
    "    # Calculate missing digits\n",
    "    d_2 = (s_a|s_c|s_d|s_e|s_g)\n",
    "    d_3 = (s_a|s_c|s_d|s_f|s_g)\n",
    "    d_5 = (s_a|s_b|s_d|s_f|s_g)\n",
    "\n",
    "    # Return digits in order 0-9, with each digit segment sorted from a-z\n",
    "    return [sorted(segs) for segs in [d_0,d_1,d_2,d_3,d_4,d_5,d_6,d_7,d_8,d_9]]\n",
    "\n",
    "# test:\n",
    "# wire = [\"cagedb\", \"ab\", \"gcdfa\", \"fbcad\", \"eafb\", \"cdfbe\", \"cdfgeb\", \"dab\", \"acedgfb\", \"cefabd\"]\n",
    "# signal_ordered(wire)"
   ]
  },
  {
   "cell_type": "code",
   "execution_count": 6,
   "metadata": {},
   "outputs": [
    {
     "name": "stdout",
     "output_type": "stream",
     "text": [
      "983026\n"
     ]
    }
   ],
   "source": [
    "value_list = []\n",
    "for i in range(len(signal_wire)):\n",
    "    value = \"\"\n",
    "    for output in signal_output[i]:\n",
    "\n",
    "        signal_wire_ordered = signal_ordered(signal_wire[i])\n",
    "        for j, wire in enumerate(signal_wire_ordered):             \n",
    "            if sorted(output) == sorted(wire):\n",
    "                value += str(j)\n",
    "                break\n",
    "    value_list.append(value)\n",
    "\n",
    "value_list_sum = sum(int(v) for v in value_list)\n",
    "print(value_list_sum)"
   ]
  }
 ],
 "metadata": {
  "interpreter": {
   "hash": "916dbcbb3f70747c44a77c7bcd40155683ae19c65e1c03b4aa3499c5328201f1"
  },
  "kernelspec": {
   "display_name": "Python 3.9.5 64-bit",
   "language": "python",
   "name": "python3"
  },
  "language_info": {
   "codemirror_mode": {
    "name": "ipython",
    "version": 3
   },
   "file_extension": ".py",
   "mimetype": "text/x-python",
   "name": "python",
   "nbconvert_exporter": "python",
   "pygments_lexer": "ipython3",
   "version": "3.9.7"
  },
  "orig_nbformat": 4
 },
 "nbformat": 4,
 "nbformat_minor": 2
}
