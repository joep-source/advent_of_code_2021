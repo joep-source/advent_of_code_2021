{
 "cells": [
  {
   "cell_type": "code",
   "execution_count": 1,
   "metadata": {},
   "outputs": [
    {
     "data": {
      "text/plain": [
       "100"
      ]
     },
     "execution_count": 1,
     "metadata": {},
     "output_type": "execute_result"
    }
   ],
   "source": [
    "f = open(\"input.txt\", \"r\")\n",
    "input_list = f.read().split('\\n')[:-1]\n",
    "len(input_list)"
   ]
  },
  {
   "cell_type": "code",
   "execution_count": 2,
   "metadata": {},
   "outputs": [],
   "source": [
    "# Part 2\n",
    "\n",
    "def print_input(mat):\n",
    "    for m in mat:\n",
    "        print(' '.join(str(n) for n in m))\n",
    "\n",
    "REPEAT = 5\n",
    "\n",
    "input_list2 = [[int(i) for i in row] for row in input_list]\n",
    "len_vert = len(input_list2)\n",
    "len_horz = len(input_list2[0])\n",
    "\n",
    "for i in range(0, REPEAT*len_vert, len_vert):\n",
    "    # Add new rows\n",
    "    if i > 0:\n",
    "        for j in range(len_vert):\n",
    "            input_list2.append(input_list2[i-len_vert+j][len_horz:])\n",
    "    \n",
    "    # Fill rows horizontally\n",
    "    horz_repeat = int(len(input_list2[i]) / len_horz)\n",
    "    for j in range(len_vert):     \n",
    "        for _ in range(horz_repeat, REPEAT):\n",
    "            input_list2[i+j].extend([x+1 if x<9 else 1 for x in input_list2[i+j][-len_vert:]])\n",
    "\n",
    "# print_input(input_list2)"
   ]
  },
  {
   "cell_type": "code",
   "execution_count": 3,
   "metadata": {},
   "outputs": [],
   "source": [
    "class Node:\n",
    "\tdef __init__(self, value):\n",
    "\t\tself.value = value\n",
    "\t\tself.connections = []\n",
    "\t\tself.tentative_distance = 999999999\n",
    "\t\n",
    "\tdef __lt__(self, other):\n",
    "\t\treturn self.tentative_distance > other.tentative_distance\n",
    "\n",
    "# input_matrix = [[Node(int(i)) for i in row] for row in input_list]  # part 1\n",
    "input_matrix = [[Node(int(i)) for i in row] for row in input_list2]  # part 2\n",
    "\n",
    "\n",
    "def print_matrix(mat, data=\"value\"):\n",
    "    for m in mat:\n",
    "        print(' '.join(str(getattr(n, data)) for n in m))\n",
    "\n",
    "# print_matrix(input_matrix)"
   ]
  },
  {
   "cell_type": "code",
   "execution_count": 4,
   "metadata": {},
   "outputs": [],
   "source": [
    "# Connect all nodes to each other\n",
    "\n",
    "def get_connections(mat, v, h):\n",
    "\tconns = []\n",
    "\tif v > 0:\n",
    "\t\tconns.append(mat[v-1][h])\n",
    "\tif v < len(mat)-1:\n",
    "\t\tconns.append(mat[v+1][h])\n",
    "\tif h > 0:\n",
    "\t\tconns.append(mat[v][h-1])\n",
    "\tif h < len(mat[0])-1:\n",
    "\t\tconns.append(mat[v][h+1])\n",
    "\treturn conns\n",
    "\n",
    "for v in range(len(input_matrix)):\n",
    "\tfor h in range(len(input_matrix[v])):\n",
    "\t\tinput_matrix[v][h].connections = get_connections(input_matrix, v, h)\n",
    "\n",
    "def print_matrix_connections(mat):\n",
    "    for m in mat:\n",
    "        print(' '.join(str(len(n.connections)) for n in m))\n",
    "\n",
    "# print_matrix_connections(input_matrix)"
   ]
  },
  {
   "cell_type": "code",
   "execution_count": 5,
   "metadata": {},
   "outputs": [
    {
     "data": {
      "text/plain": [
       "3002"
      ]
     },
     "execution_count": 5,
     "metadata": {},
     "output_type": "execute_result"
    }
   ],
   "source": [
    "node_start = input_matrix[0][0]\n",
    "node_end = input_matrix[-1][-1]\n",
    "\n",
    "# Find fastest route (Dijkstra algo)\n",
    "unvisited = []\n",
    "node_start.tentative_distance = 0\n",
    "node_cur = node_start\n",
    "while node_cur != node_end:\n",
    "    for node_con in node_cur.connections:        \n",
    "        if node_con.tentative_distance > (distance := node_con.value + node_cur.tentative_distance):\n",
    "            node_con.tentative_distance = distance\n",
    "            if node_con not in unvisited:\n",
    "                unvisited.append(node_con)\n",
    "    unvisited.sort(key=lambda x: x.tentative_distance)\n",
    "    node_cur = unvisited.pop(0)\n",
    "\n",
    "# Sum fastest route cost\n",
    "route_cost = 0\n",
    "while node_cur.tentative_distance:\n",
    "    route_cost += node_cur.value\n",
    "    node_cur.connections.sort(key=lambda x: x.tentative_distance)\n",
    "    node_cur = node_cur.connections[0]\n",
    "\n",
    "route_cost"
   ]
  }
 ],
 "metadata": {
  "interpreter": {
   "hash": "916dbcbb3f70747c44a77c7bcd40155683ae19c65e1c03b4aa3499c5328201f1"
  },
  "kernelspec": {
   "display_name": "Python 3.9.5 64-bit",
   "language": "python",
   "name": "python3"
  },
  "language_info": {
   "codemirror_mode": {
    "name": "ipython",
    "version": 3
   },
   "file_extension": ".py",
   "mimetype": "text/x-python",
   "name": "python",
   "nbconvert_exporter": "python",
   "pygments_lexer": "ipython3",
   "version": "3.9.7"
  },
  "orig_nbformat": 4
 },
 "nbformat": 4,
 "nbformat_minor": 2
}
