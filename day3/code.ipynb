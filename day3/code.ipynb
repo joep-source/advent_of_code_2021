{
 "cells": [
  {
   "cell_type": "code",
   "execution_count": 1,
   "metadata": {},
   "outputs": [],
   "source": [
    "f = open(\"input.txt\", \"r\")\n",
    "input_list = f.read().split('\\n')[:-1]\n",
    "len(input_list)\n",
    "row_len = len(input_list[0])"
   ]
  },
  {
   "cell_type": "code",
   "execution_count": 2,
   "metadata": {},
   "outputs": [
    {
     "name": "stdout",
     "output_type": "stream",
     "text": [
      "[487, 485, 519, 505, 480, 495, 509, 482, 492, 520, 484, 502]\n",
      "001100100101\n"
     ]
    },
    {
     "data": {
      "text/plain": [
       "(805, 3290, 2648450)"
      ]
     },
     "execution_count": 2,
     "metadata": {},
     "output_type": "execute_result"
    }
   ],
   "source": [
    "row_len = len(input_list[0])\n",
    "counter = [0] * row_len\n",
    "for row in input_list:\n",
    "    for i in range(row_len):\n",
    "        if row[i] == '1':\n",
    "            counter[i] +=1\n",
    "print(counter)\n",
    "\n",
    "gamma = \"\"\n",
    "for count in counter:\n",
    "    if count > (len(input_list)/2):\n",
    "        gamma += '1'\n",
    "    else:\n",
    "        gamma += '0'\n",
    "print(gamma)\n",
    "\n",
    "gamma_int = int(gamma,2)\n",
    "epsilon_int = gamma_int ^ int(\"111111111111\",2)\n",
    "gamma_int, epsilon_int, gamma_int*epsilon_int"
   ]
  },
  {
   "cell_type": "code",
   "execution_count": 3,
   "metadata": {},
   "outputs": [
    {
     "data": {
      "text/plain": [
       "(3384, 841, 2845944)"
      ]
     },
     "execution_count": 3,
     "metadata": {},
     "output_type": "execute_result"
    }
   ],
   "source": [
    "import operator\n",
    "\n",
    "def get_value(selection, op_func):\n",
    "    for i in range(row_len): \n",
    "        new_selection_1=[]\n",
    "        new_selection_0=[]\n",
    "\n",
    "        for row in selection:      \n",
    "            if row[i] == '1':\n",
    "                new_selection_1.append(row)\n",
    "            else:\n",
    "                new_selection_0.append(row)\n",
    "            \n",
    "        if op_func(len(new_selection_1), len(selection)/2):\n",
    "            selection = new_selection_1\n",
    "        else:\n",
    "            selection = new_selection_0\n",
    "        # print(len(selection))\n",
    "        if len(selection) == 1:\n",
    "            break\n",
    "    return (int(selection[0],2))\n",
    "\n",
    "oxygen = get_value(input_list, operator.lt)\n",
    "co2 = get_value(input_list, operator.ge)\n",
    "oxygen, co2, oxygen*co2"
   ]
  }
 ],
 "metadata": {
  "interpreter": {
   "hash": "916dbcbb3f70747c44a77c7bcd40155683ae19c65e1c03b4aa3499c5328201f1"
  },
  "kernelspec": {
   "display_name": "Python 3.9.5 64-bit",
   "language": "python",
   "name": "python3"
  },
  "language_info": {
   "codemirror_mode": {
    "name": "ipython",
    "version": 3
   },
   "file_extension": ".py",
   "mimetype": "text/x-python",
   "name": "python",
   "nbconvert_exporter": "python",
   "pygments_lexer": "ipython3",
   "version": "3.9.7"
  },
  "orig_nbformat": 4
 },
 "nbformat": 4,
 "nbformat_minor": 2
}
