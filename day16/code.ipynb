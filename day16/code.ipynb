{
 "cells": [
  {
   "cell_type": "code",
   "execution_count": 1,
   "metadata": {},
   "outputs": [
    {
     "data": {
      "text/plain": [
       "'E0525D9802FA00B80021B13E2D4260004321DC648D729DD67B2412009966D76C0159ED274F6921402E9FD4AC1B0F652CD339'"
      ]
     },
     "execution_count": 1,
     "metadata": {},
     "output_type": "execute_result"
    }
   ],
   "source": [
    "f = open(\"input.txt\", \"r\")\n",
    "input_hex = f.read()[:-1]\n",
    "# input_hex = \"9C0141080250320F1802104A08\"\n",
    "input_hex[:100]"
   ]
  },
  {
   "cell_type": "code",
   "execution_count": 2,
   "metadata": {},
   "outputs": [
    {
     "data": {
      "text/plain": [
       "'1110000001010010010111011001100000000010111110100000000010111000000000000010000110110001001111100010'"
      ]
     },
     "execution_count": 2,
     "metadata": {},
     "output_type": "execute_result"
    }
   ],
   "source": [
    "data = bin(int(input_hex, 16))[2:]\n",
    "data = data.zfill(len(input_hex)*4)\n",
    "data[:100]"
   ]
  },
  {
   "cell_type": "code",
   "execution_count": 3,
   "metadata": {},
   "outputs": [
    {
     "name": "stdout",
     "output_type": "stream",
     "text": [
      "\n",
      "TOTAL: 13476220616073\n",
      "VERSIONS: 940\n"
     ]
    }
   ],
   "source": [
    "import math\n",
    "\n",
    "LEN_OP0_PACK = 22\n",
    "LEN_OP1_PACK = 18\n",
    "\n",
    "def bin_to_int(x):\n",
    "    return int(x, 2)\n",
    "\n",
    "def get_version(x):\n",
    "    version = bin_to_int(x[:3])\n",
    "    # print(f\"{version=}\")\n",
    "    return version\n",
    "\n",
    "def get_operator(x):\n",
    "    operator = bin_to_int(x[3:6])\n",
    "    # print(f\"{operator=}\")\n",
    "    return operator\n",
    "\n",
    "def get_operator_id(x):\n",
    "    operator_l = int(x[6])\n",
    "    # print(f\"{operator_l=}\")\n",
    "    return operator_l\n",
    "\n",
    "def get_operator_value(x):\n",
    "    operator_v = bin_to_int(x[7:LEN_OP0_PACK])\n",
    "    # print(f\"{operator_v=}, {x[7:LEN_OP0_PACK]}, {x}\")\n",
    "    return operator_v\n",
    "\n",
    "def convert_operator_value(x, values):\n",
    "    if not values:\n",
    "        print(x)\n",
    "        return\n",
    "    if x==0: \n",
    "        # print('sum', values)\n",
    "        return sum(values)\n",
    "    if x==1: \n",
    "        # print('*', values)\n",
    "        return math.prod(values)\n",
    "    if x==2:         \n",
    "        # print('min', values)\n",
    "        return min(values)\n",
    "    if x==3: \n",
    "        # print('max', values)\n",
    "        return max(values)\n",
    "    if x==5: \n",
    "        # print('>', values)\n",
    "        return int(values[0] > values[1])\n",
    "    if x==6: \n",
    "        # print('<', values)\n",
    "        return int(values[0] < values[1])\n",
    "    if x==7: \n",
    "        # print('==', values)\n",
    "        return int(values[0] == values[1])\n",
    "\n",
    "def get_operator_subpackets(x):\n",
    "    operator_subs = bin_to_int(x[7:LEN_OP1_PACK])\n",
    "    return operator_subs\n",
    "\n",
    "def get_literal(x):\n",
    "    lit_len = 6\n",
    "    lit_value = x[lit_len+1:lit_len+5]\n",
    "    while int(x[lit_len:][0]) != 0:\n",
    "        lit_len+=5\n",
    "        lit_value += x[lit_len+1:lit_len+5]\n",
    "    lit_value = bin_to_int(lit_value)\n",
    "    lit_len += 5\n",
    "    return lit_len, lit_value\n",
    "\n",
    "\n",
    "versions = []\n",
    "def retract(data, i):\n",
    "    if len(set(data[i:])) < 2:\n",
    "        print('EOF') \n",
    "    versions.append(get_version(data[i:]))\n",
    "    if (op := get_operator(data[i:])) == 4:\n",
    "        lit_len, lit_value = get_literal(data[i:])\n",
    "        return i+lit_len, lit_value\n",
    "    else:   \n",
    "        values = []\n",
    "        if get_operator_id(data[i:]) == 0:\n",
    "            operator_value = get_operator_value(data[i:])\n",
    "            i += LEN_OP0_PACK\n",
    "            sub_len = i + operator_value\n",
    "            while i<sub_len:\n",
    "                i, val = retract(data, i)\n",
    "                values.append(val) \n",
    "        else:\n",
    "            subs = get_operator_subpackets(data[i:])\n",
    "            i += LEN_OP1_PACK\n",
    "            for _ in range(subs): \n",
    "                i, val = retract(data, i)\n",
    "                values.append(val)\n",
    "        return i, convert_operator_value(op, values)\n",
    "\n",
    "i, val = (retract(data, 0))\n",
    "print()\n",
    "print('TOTAL:', val)\n",
    "print('VERSIONS:', sum(versions))"
   ]
  }
 ],
 "metadata": {
  "interpreter": {
   "hash": "916dbcbb3f70747c44a77c7bcd40155683ae19c65e1c03b4aa3499c5328201f1"
  },
  "kernelspec": {
   "display_name": "Python 3.9.5 64-bit",
   "language": "python",
   "name": "python3"
  },
  "language_info": {
   "codemirror_mode": {
    "name": "ipython",
    "version": 3
   },
   "file_extension": ".py",
   "mimetype": "text/x-python",
   "name": "python",
   "nbconvert_exporter": "python",
   "pygments_lexer": "ipython3",
   "version": "3.9.7"
  },
  "orig_nbformat": 4
 },
 "nbformat": 4,
 "nbformat_minor": 2
}
