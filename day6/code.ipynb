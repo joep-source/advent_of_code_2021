{
 "cells": [
  {
   "cell_type": "code",
   "execution_count": 1,
   "metadata": {},
   "outputs": [],
   "source": [
    "f = open(\"input.txt\", \"r\")\n",
    "input_list = f.read().split(',')\n",
    "len(input_list)\n",
    "fish_initial = list(map(int, input_list))"
   ]
  },
  {
   "cell_type": "code",
   "execution_count": 2,
   "metadata": {},
   "outputs": [
    {
     "name": "stdout",
     "output_type": "stream",
     "text": [
      "day 80, fishes 349549\n",
      "day 256, fishes 1589590444365\n"
     ]
    }
   ],
   "source": [
    "def total_fishes(days):\n",
    "    # day 0\n",
    "    fishes = [0]*7\n",
    "    for i in fish_initial:\n",
    "        fishes[i] += 1\n",
    "    \n",
    "    index = 0\n",
    "    fishes_wait = [0]*9\n",
    "    for day in range(1,days+1):\n",
    "        # Fish counter    \n",
    "        fishes[index] += fishes_wait.pop(0)\n",
    "        fishes_wait.append(fishes[index])\n",
    "        # Index Counter\n",
    "        index += 1\n",
    "        if index >= 7:\n",
    "            index = 0\n",
    "    \n",
    "    fish_total = sum(fishes) + sum(fishes_wait)\n",
    "    print(f\"day {day}, fishes {fish_total}\")\n",
    "\n",
    "total_fishes(days=80)\n",
    "total_fishes(days=256)"
   ]
  }
 ],
 "metadata": {
  "interpreter": {
   "hash": "916dbcbb3f70747c44a77c7bcd40155683ae19c65e1c03b4aa3499c5328201f1"
  },
  "kernelspec": {
   "display_name": "Python 3.9.5 64-bit",
   "language": "python",
   "name": "python3"
  },
  "language_info": {
   "codemirror_mode": {
    "name": "ipython",
    "version": 3
   },
   "file_extension": ".py",
   "mimetype": "text/x-python",
   "name": "python",
   "nbconvert_exporter": "python",
   "pygments_lexer": "ipython3",
   "version": "3.9.7"
  },
  "orig_nbformat": 4
 },
 "nbformat": 4,
 "nbformat_minor": 2
}
