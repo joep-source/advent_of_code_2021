{
 "cells": [
  {
   "cell_type": "code",
   "execution_count": 1,
   "metadata": {},
   "outputs": [
    {
     "data": {
      "text/plain": [
       "1000"
      ]
     },
     "execution_count": 1,
     "metadata": {},
     "output_type": "execute_result"
    }
   ],
   "source": [
    "f = open(\"input.txt\", \"r\")\n",
    "input_list = f.read().split('\\n')[:-1]\n",
    "len(input_list)"
   ]
  },
  {
   "cell_type": "code",
   "execution_count": 2,
   "metadata": {},
   "outputs": [
    {
     "data": {
      "text/plain": [
       "(1017, 1906, 1938402)"
      ]
     },
     "execution_count": 2,
     "metadata": {},
     "output_type": "execute_result"
    }
   ],
   "source": [
    "INDEX_UP = 3\n",
    "INDEX_DOWN = 5\n",
    "INDEX_FORWARD = 8\n",
    "\n",
    "cnt_depth = 0\n",
    "cnt_forward = 0\n",
    "\n",
    "for move in input_list:\n",
    "    if len(move) == INDEX_UP+1:\n",
    "        cnt_depth -= int(move[INDEX_UP])\n",
    "    elif len(move) == INDEX_DOWN+1:\n",
    "        cnt_depth += int(move[INDEX_DOWN])\n",
    "    elif len(move) == INDEX_FORWARD+1:\n",
    "        cnt_forward += int(move[INDEX_FORWARD])\n",
    "    else:\n",
    "        print('whuut', move)\n",
    "    \n",
    "\n",
    "cnt_depth, cnt_forward, cnt_depth*cnt_forward\n"
   ]
  },
  {
   "cell_type": "code",
   "execution_count": 3,
   "metadata": {},
   "outputs": [
    {
     "data": {
      "text/plain": [
       "(1021972, 1906, 1947878632)"
      ]
     },
     "execution_count": 3,
     "metadata": {},
     "output_type": "execute_result"
    }
   ],
   "source": [
    "cnt_depth = 0\n",
    "cnt_forward = 0\n",
    "cnt_aim = 0\n",
    "\n",
    "for move in input_list:\n",
    "    if len(move) == INDEX_UP+1:\n",
    "        cnt_aim -= int(move[INDEX_UP])\n",
    "    elif len(move) == INDEX_DOWN+1:\n",
    "        cnt_aim += int(move[INDEX_DOWN])\n",
    "    elif len(move) == INDEX_FORWARD+1:\n",
    "        x = int(move[INDEX_FORWARD])\n",
    "        cnt_depth += x*cnt_aim\n",
    "        cnt_forward += x\n",
    "    else:\n",
    "        print('whuut', move)\n",
    "\n",
    "cnt_depth, cnt_forward, cnt_depth*cnt_forward"
   ]
  }
 ],
 "metadata": {
  "interpreter": {
   "hash": "916dbcbb3f70747c44a77c7bcd40155683ae19c65e1c03b4aa3499c5328201f1"
  },
  "kernelspec": {
   "display_name": "Python 3.9.5 64-bit",
   "language": "python",
   "name": "python3"
  },
  "language_info": {
   "codemirror_mode": {
    "name": "ipython",
    "version": 3
   },
   "file_extension": ".py",
   "mimetype": "text/x-python",
   "name": "python",
   "nbconvert_exporter": "python",
   "pygments_lexer": "ipython3",
   "version": "3.7.9"
  },
  "orig_nbformat": 4
 },
 "nbformat": 4,
 "nbformat_minor": 2
}
