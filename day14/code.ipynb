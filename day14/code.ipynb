{
 "cells": [
  {
   "cell_type": "code",
   "execution_count": 1,
   "metadata": {},
   "outputs": [
    {
     "data": {
      "text/plain": [
       "102"
      ]
     },
     "execution_count": 1,
     "metadata": {},
     "output_type": "execute_result"
    }
   ],
   "source": [
    "f = open(\"input.txt\", \"r\")\n",
    "input_list = f.read().split('\\n')[:-1]\n",
    "len(input_list)"
   ]
  },
  {
   "cell_type": "code",
   "execution_count": 2,
   "metadata": {},
   "outputs": [],
   "source": [
    "rules = {}\n",
    "for input in input_list[2:]:\n",
    "    rules[input[0]+input[1]] = input[0]+input[-1]+input[1] \n",
    "# rules"
   ]
  },
  {
   "cell_type": "code",
   "execution_count": 3,
   "metadata": {},
   "outputs": [
    {
     "name": "stdout",
     "output_type": "stream",
     "text": [
      "BSONBHNSSCFPSFOPHKPK\n",
      "0 39\n",
      "1 77\n",
      "2 153\n",
      "3 305\n",
      "4 609\n",
      "5 1217\n",
      "6 2433\n",
      "7 4865\n",
      "8 9729\n",
      "9 19457\n"
     ]
    }
   ],
   "source": [
    "polymer = input_list[0]\n",
    "print(polymer)\n",
    "\n",
    "for round in range(10):\n",
    "    polymer_new = polymer[0]\n",
    "    for i in range(len(polymer)-1):\n",
    "        part = polymer[i:i+2]\n",
    "        # print(part, rules[part][1:])\n",
    "        polymer_new += rules[part][1:]\n",
    "    polymer = polymer_new\n",
    "    print(round, len(polymer))\n"
   ]
  },
  {
   "cell_type": "code",
   "execution_count": 4,
   "metadata": {},
   "outputs": [
    {
     "name": "stdout",
     "output_type": "stream",
     "text": [
      "Counter({'V': 3818, 'B': 2694, 'N': 2207, 'P': 1980, 'O': 1925, 'F': 1757, 'H': 1586, 'C': 1211, 'K': 1201, 'S': 1078}) 3818 1078 2740\n"
     ]
    }
   ],
   "source": [
    "from collections import Counter\n",
    "polymer_cnt = Counter(polymer)\n",
    "cnt_max = max(polymer_cnt.values())\n",
    "cnt_min = min(polymer_cnt.values())\n",
    "print(polymer_cnt, cnt_max, cnt_min, cnt_max-cnt_min)"
   ]
  }
 ],
 "metadata": {
  "interpreter": {
   "hash": "916dbcbb3f70747c44a77c7bcd40155683ae19c65e1c03b4aa3499c5328201f1"
  },
  "kernelspec": {
   "display_name": "Python 3.9.5 64-bit",
   "language": "python",
   "name": "python3"
  },
  "language_info": {
   "codemirror_mode": {
    "name": "ipython",
    "version": 3
   },
   "file_extension": ".py",
   "mimetype": "text/x-python",
   "name": "python",
   "nbconvert_exporter": "python",
   "pygments_lexer": "ipython3",
   "version": "3.8.9"
  },
  "orig_nbformat": 4
 },
 "nbformat": 4,
 "nbformat_minor": 2
}
